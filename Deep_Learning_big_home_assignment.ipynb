{
  "nbformat": 4,
  "nbformat_minor": 0,
  "metadata": {
    "colab": {
      "name": "Deep Learning big home assignment.ipynb",
      "version": "0.3.2",
      "provenance": [],
      "collapsed_sections": [
        "5xrX6LBcMUvo"
      ],
      "include_colab_link": true
    },
    "kernelspec": {
      "name": "python3",
      "display_name": "Python 3"
    },
    "accelerator": "GPU"
  },
  "cells": [
    {
      "cell_type": "markdown",
      "metadata": {
        "id": "view-in-github",
        "colab_type": "text"
      },
      "source": [
        "[View in Colaboratory](https://colab.research.google.com/github/kaland313/vitmav45-ShipSeakers/blob/dataprep_cstp/Deep_Learning_big_home_assignment.ipynb)"
      ]
    },
    {
      "metadata": {
        "id": "GqTcMzmgi1vn",
        "colab_type": "text"
      },
      "cell_type": "markdown",
      "source": [
        "# Deep learning big home assignment - Ship recognition\n",
        "\n",
        "In this assignment we are going to recognise ships on the surface of the oceans and seas via satelite images.\n",
        "You can find the kaggle challenge [here.](https://www.kaggle.com/c/airbus-ship-detection)\n",
        "\n"
      ]
    },
    {
      "metadata": {
        "id": "yOy0DBJJMc4w",
        "colab_type": "code",
        "colab": {
          "base_uri": "https://localhost:8080/",
          "height": 34
        },
        "outputId": "a1118a42-47bc-4e18-d1ca-695e6091dd32"
      },
      "cell_type": "code",
      "source": [
        "print(\"Hello World!\")\n",
        "#!mkdir train_img\n",
        "#!mv *.jpg train_img\n",
        "#!mkdir test_img\n",
        "#!mv *.jpg test_img\n",
        "#!rm -rf train_img test_img\n"
      ],
      "execution_count": 119,
      "outputs": [
        {
          "output_type": "stream",
          "text": [
            "Hello World!\n"
          ],
          "name": "stdout"
        }
      ]
    },
    {
      "metadata": {
        "id": "c3_qOPZij-9m",
        "colab_type": "code",
        "colab": {}
      },
      "cell_type": "code",
      "source": [
        "# imports\n",
        "import pandas as pd\n",
        "import numpy as np\n",
        "import matplotlib.pyplot as plt\n",
        "import matplotlib.image as mpimg\n",
        "\n",
        "#from imageio import imread\n",
        "from keras.utils import Sequence\n",
        "\n",
        "%matplotlib inline"
      ],
      "execution_count": 0,
      "outputs": []
    },
    {
      "metadata": {
        "id": "hCI8Vel8Xbg7",
        "colab_type": "code",
        "colab": {}
      },
      "cell_type": "code",
      "source": [
        "# functions\n",
        "# ref: https://www.kaggle.com/paulorzp/run-length-encode-and-decode\n",
        "def rle_decode(mask_rle, shape=(768, 768)):\n",
        "    '''\n",
        "    mask_rle: run-length as string formated (start length)\n",
        "    shape: (height,width) of array to return \n",
        "    Returns numpy array, 1 - mask, 0 - background\n",
        "\n",
        "    '''\n",
        "    s = mask_rle.split()\n",
        "    starts, lengths = [np.asarray(x, dtype=int) for x in (s[0:][::2], s[1:][::2])]\n",
        "    starts -= 1\n",
        "    ends = starts + lengths\n",
        "    img = np.zeros(shape[0]*shape[1], dtype=np.uint8)\n",
        "    for lo, hi in zip(starts, ends):\n",
        "        img[lo:hi] = 1\n",
        "    \n",
        "    # create 2 dimensional array from 1D array   \n",
        "    return img.reshape(shape).T  # Needed to align to RLE direction\n",
        "\n",
        "def min_max(img_matrix, min=-1, max=1):\n",
        "    return img_matrix/255.0 * (max - min) + min\n",
        "  \n",
        "def separate(train_data, valid_split=0.2):\n",
        "    \"\"\"\n",
        "    \n",
        "    Separate the dataset into 3 different part. Train, validation and test.\n",
        "    train_data and test_data sets are 1D numpy arrays.\n",
        "\n",
        "    returns the train, valid and test data sets\n",
        "    \n",
        "    \"\"\"\n",
        "    \n",
        "    sum_ = train_data.shape[0]\n",
        "    train = None\n",
        "    valid = None\n",
        "    \n",
        "    train = train_data[:int(train_data.shape[0]*(1-valid_split))]\n",
        "    valid = train_data[int(train_data.shape[0]*(1-valid_split)):]\n",
        "    \n",
        "    \"\"\"\n",
        "    TODO: it suppose to get more test data. Fix it.\n",
        "    if int(sum_*test_split) == test_data.shape[0]:\n",
        "        # exact amount test data in test dataset\n",
        "        test = test_data\n",
        "    elif int(sum_*test_split) > test_data.shape[0]:\n",
        "        # need more test data from the train dataset\n",
        "        test = test_data                                   # every data\n",
        "        delta = int(sum_*test_split) - test_data.shape[0]  # how much more data needed \n",
        "        tmp_split = delta / (sum_-test_data.shape[0])      # in [0, 1]\n",
        "    else:\n",
        "        # too much data in the test dataset\n",
        "        limit = int(test_data.shape[0] * (1 - test_split)) # index to split the test\n",
        "        test = test_data[:limit]                           # get the test data\n",
        "        tmp_split =  (1 - test_split)#1 - (test.shape[0] / test_data.shape[0])\n",
        "        have_more_data = True\n",
        "        \n",
        "    if have_more_data:\n",
        "        data = np.concatenate((train_data, test_data[int(test_data.shape[0]*tmp_split):]), axis=None)\n",
        "        train = data[:int(data.shape[0]*(1-valid_split))]\n",
        "        valid = data[int(data.shape[0]*(1-valid_split)):] # rest of the test_data is here\n",
        "    else:        \n",
        "        index_from = int(train_data.shape[0]*(1-tmp_split))\n",
        "        \n",
        "        test = np.concatenate((train_data[index_from:], test), axis=None)\n",
        "        train = train_data[0:int(train_data.shape[0]*(valid_split))]\n",
        "        valid = train_data[int(train_data.shape[0]*(valid_split)):index_from]\n",
        "     \"\"\"        \n",
        "    return train, valid\n",
        "  \n",
        "def read_transform_image(img_file_path):\n",
        "    img = mpimg.imread(img_file_path)\n",
        "    #print(img)\n",
        "    return min_max(img)\n",
        "  \n",
        "def DispImageWithMap(img_matrix, mask_matrix):\n",
        "    fig, axarr = plt.subplots(1, 3, figsize=(15, 40))\n",
        "    axarr[0].axis(\"off\")\n",
        "    axarr[1].axis(\"off\")\n",
        "    axarr[2].axis(\"off\")\n",
        "    axarr[0].imshow(img_matrix)\n",
        "    axarr[1].imshow(mask_matrix,cmap=\"Purples\")\n",
        "    axarr[2].imshow(img_matrix)\n",
        "    axarr[2].imshow(mask_matrix, alpha=0.6,cmap=\"Purples\")\n",
        "    plt.tight_layout(h_pad=0.1, w_pad=0.1)\n",
        "    plt.show()\n",
        "\n",
        "#ref: https://stanford.edu/~shervine/blog/keras-how-to-generate-data-on-the-fly\n",
        "class DataGenerator(Sequence):\n",
        "    \n",
        "    def __init__(self, list_IDs, labels, img_path_prefix, batch_size=32, dim=(32,32,32),\n",
        "                 n_channels=1, n_classes=10, shuffle=True):\n",
        "        #Initialization\n",
        "        self.dim = dim                              # dataset's dimension\n",
        "        self.img_prefix = img_path_prefix           # location of the dataset\n",
        "        self.batch_size = batch_size                # number of data/epoch\n",
        "        self.labels = labels                        # \"img\":\"rle mask\" dictionary\n",
        "        self.list_IDs = list_IDs                    # images filenames \n",
        "        self.n_channels = n_channels                # number of rgb chanels\n",
        "        #self.n_classes = n_classes                 # ???\n",
        "        self.shuffle = shuffle                      # shuffle the data\n",
        "        \n",
        "        self.on_epoch_end()\n",
        "        \n",
        "    def on_epoch_end(self):\n",
        "        #Updates indexes after each epoch'\n",
        "        self.indexes = np.arange(len(self.list_IDs))\n",
        "        print(\"Ep end: {0}\".format(self.indexes))\n",
        "        if self.shuffle == True:\n",
        "            np.random.shuffle(self.indexes)\n",
        "            \n",
        "    def __len__(self):\n",
        "        #Denotes the number of batches per epoch'\n",
        "        return int(np.floor(len(self.list_IDs) / self.batch_size))\n",
        "      \n",
        "    def __getitem__(self, index):\n",
        "        # Generate one batch of data'\n",
        "        # Generate indexes of the batch\n",
        "        indexes = self.indexes[index*self.batch_size:(index+1)*self.batch_size]\n",
        "        \n",
        "        print(\"getitem: {}\".format(self.indexes))\n",
        "        \n",
        "        # Find list of IDs\n",
        "        list_IDs_temp = [self.list_IDs[k] for k in indexes]\n",
        "        \n",
        "        print(\"getitem: {}\".format(list_IDs_temp))\n",
        "        \n",
        "        # Generate data\n",
        "        X, Y = self.generate(list_IDs_temp)\n",
        "\n",
        "        return X, Y\n",
        "\n",
        "    def generate(self, tmp_list):\n",
        "        #Generates data containing batch_size samples' # X : (n_samples, *dim, n_channels)\n",
        "        # Initialization\n",
        "        \n",
        "        X = np.empty((self.batch_size, *self.dim, self.n_channels))\n",
        "        Y = np.empty((self.batch_size, *self.dim))\n",
        "        #print(X.shape)\n",
        "        #print(X)\n",
        "\n",
        "        # Generate data\n",
        "        for i, ID in enumerate(tmp_list):\n",
        "            # read image called \"ID\"\n",
        "            X[i] = read_transform_image(self.img_prefix+\"/\"+ID)\n",
        "            \n",
        "            #print(\"\\n\\n{}\\n\\n\".format(X[i]))\n",
        "            \n",
        "            # store masks\n",
        "            mask = rle_decode(labels[ID][0])\n",
        "            Y[i] = mask\n",
        "\n",
        "        return X, Y"
      ],
      "execution_count": 0,
      "outputs": []
    },
    {
      "metadata": {
        "id": "UJiUFaWwsBwP",
        "colab_type": "text"
      },
      "cell_type": "markdown",
      "source": [
        "I noticed there are lines with \"nan\". This means there are no ships on that picture. I put a characther in those spots, so I can identify these lines.\n",
        "\n",
        "Also checked, if I put that character in those lines in the ImageId column. As we can see, every ImageId has some value, which is not \"nan\"."
      ]
    },
    {
      "metadata": {
        "id": "keGVpt39nJe-",
        "colab_type": "code",
        "colab": {
          "base_uri": "https://localhost:8080/",
          "height": 782
        },
        "outputId": "b7006e58-234f-4d97-ccb1-88ce9db46d1c"
      },
      "cell_type": "code",
      "source": [
        "# reading the trainaing data and show the first 20 rows\n",
        "df_train = pd.read_csv(\"train_ship_segmentations_v2.csv\")\n",
        "print(df_train.describe())\n",
        "print(df_train.head(20))\n",
        "\n",
        "swap_char = \"0\"\n",
        "df_train = df_train.fillna(swap_char)\n",
        "\n",
        "print(\"{0} features, {1} rows in the dataset.\\n\".format(df_train.values.shape[1], df_train.values.shape[0]))\n",
        "\n",
        "ep_train = df_train.EncodedPixels.values # get every masks\n",
        "image_ids_train = df_train[\"ImageId\"].values # get every image ID's for later\n",
        "\n",
        "for i in range(10):\n",
        "    if ep_train[i] == swap_char:\n",
        "        print(\"{}. is None!\".format(i))\n",
        "    else:\n",
        "        print(\"{}. isn't None!\".format(i))\n",
        "        \n",
        "print(\"\\n{}\\n\".format(df_train.ImageId.isnull().describe()))\n"
      ],
      "execution_count": 122,
      "outputs": [
        {
          "output_type": "stream",
          "text": [
            "              ImageId                                      EncodedPixels\n",
            "count          231723                                              81723\n",
            "unique         192556                                              81722\n",
            "top     ff7ac7f3c.jpg  43801 1 44567 4 45334 5 46100 8 46867 9 47636 ...\n",
            "freq               15                                                  2\n",
            "          ImageId                                      EncodedPixels\n",
            "0   00003e153.jpg                                                NaN\n",
            "1   0001124c7.jpg                                                NaN\n",
            "2   000155de5.jpg  264661 17 265429 33 266197 33 266965 33 267733...\n",
            "3   000194a2d.jpg  360486 1 361252 4 362019 5 362785 8 363552 10 ...\n",
            "4   000194a2d.jpg  51834 9 52602 9 53370 9 54138 9 54906 9 55674 ...\n",
            "5   000194a2d.jpg  198320 10 199088 10 199856 10 200624 10 201392...\n",
            "6   000194a2d.jpg  55683 1 56451 1 57219 1 57987 1 58755 1 59523 ...\n",
            "7   000194a2d.jpg  254389 9 255157 17 255925 17 256693 17 257461 ...\n",
            "8   0001b1832.jpg                                                NaN\n",
            "9   00021ddc3.jpg  108287 1 109054 3 109821 4 110588 5 111356 5 1...\n",
            "10  00021ddc3.jpg  101361 1 102128 3 102896 4 103663 6 104430 9 1...\n",
            "11  00021ddc3.jpg  74441 3 75207 5 75975 5 76743 5 77511 5 78280 ...\n",
            "12  00021ddc3.jpg  74444 4 75212 4 75980 4 76748 4 77517 3 78285 ...\n",
            "13  00021ddc3.jpg  150423 2 151190 3 151958 3 152726 4 153495 3 1...\n",
            "14  00021ddc3.jpg  139644 2 140408 6 141174 9 141942 9 142711 6 1...\n",
            "15  00021ddc3.jpg  75972 3 76738 5 77506 5 78274 5 79042 6 79811 ...\n",
            "16  00021ddc3.jpg  86727 2 87493 4 88261 4 89030 3 89798 4 90566 ...\n",
            "17  00021ddc3.jpg  95225 2 95992 5 96760 7 97527 9 98294 9 99062 ...\n",
            "18  0002756f7.jpg  255784 2 256552 4 257319 7 258087 9 258854 12 ...\n",
            "19  0002756f7.jpg  248878 1 249645 4 250413 6 251180 9 251948 10 ...\n",
            "2 features, 231723 rows in the dataset.\n",
            "\n",
            "0. is None!\n",
            "1. is None!\n",
            "2. isn't None!\n",
            "3. isn't None!\n",
            "4. isn't None!\n",
            "5. isn't None!\n",
            "6. isn't None!\n",
            "7. isn't None!\n",
            "8. is None!\n",
            "9. isn't None!\n",
            "\n",
            "count     231723\n",
            "unique         1\n",
            "top        False\n",
            "freq      231723\n",
            "Name: ImageId, dtype: object\n",
            "\n"
          ],
          "name": "stdout"
        }
      ]
    },
    {
      "metadata": {
        "id": "Ychv3cP_0sWi",
        "colab_type": "text"
      },
      "cell_type": "markdown",
      "source": [
        "Little statistics about the data.\n",
        "\n",
        "First, I check how many data are None. I count the None lines and I divide it by the sum of the lines. I call it None rate.\n",
        "\n"
      ]
    },
    {
      "metadata": {
        "id": "8G0QOyVnnR9n",
        "colab_type": "code",
        "colab": {
          "base_uri": "https://localhost:8080/",
          "height": 265
        },
        "outputId": "387aff87-e4e0-407d-dc39-ceac24fd9605"
      },
      "cell_type": "code",
      "source": [
        "none_cnt = (df_train.EncodedPixels == swap_char).sum()\n",
        "print(\n",
        "    \"The number of None's = {0}. The number of data = {1}. None rate = {2:.3f}\"\n",
        "     .format(none_cnt, len(ep_train), none_cnt/len(ep_train))\n",
        "     )\n",
        "\n",
        "labels = \"Pictures with ships\", \"Pictures without ships\"\n",
        "sizes = [1-(none_cnt/len(ep_train)), none_cnt/len(ep_train)]\n",
        "explode = (0, 0.1)  # only \"explode\" the 2nd slice\n",
        "\n",
        "labels2 = \"Train data\", \"Validation data\"\n",
        "sizes2 = [n_train/sum_, n_valid/sum_]\n",
        "\n",
        "fig1, ax1 = plt.subplots()\n",
        "ax1.pie(sizes, explode=explode, labels=labels, autopct='%1.1f%%',\n",
        "        shadow=True, startangle=90)\n",
        "ax1.axis('equal')  # Equal aspect ratio ensures that pie is drawn as a circle.\n",
        "\n",
        "plt.show()"
      ],
      "execution_count": 123,
      "outputs": [
        {
          "output_type": "stream",
          "text": [
            "The number of None's = 150000. The number of data = 231723. None rate = 0.647\n"
          ],
          "name": "stdout"
        },
        {
          "output_type": "display_data",
          "data": {
            "image/png": "[encoded data removed]",
            "text/plain": [
              "<matplotlib.figure.Figure at 0x7f547ffdba20>"
            ]
          },
          "metadata": {
            "tags": []
          }
        }
      ]
    },
    {
      "metadata": {
        "id": "X3khncV5CLbP",
        "colab_type": "code",
        "colab": {
          "base_uri": "https://localhost:8080/",
          "height": 418
        },
        "outputId": "0460cf82-681c-4a06-bed1-14befe3e5077"
      },
      "cell_type": "code",
      "source": [
        "valid_split = 0.15\n",
        "\n",
        "sum_ = image_ids_train.shape[0]\n",
        "trn = int(sum_ * (1-valid_split))\n",
        "van = int(sum_ * valid_split)\n",
        "\n",
        "print(\"Szumma : {}\".format(sum_))\n",
        "print(\n",
        "    \"Expected results:\\nTrain: {}, Valid: {}\\n\\n\"\n",
        "    .format(trn, van)\n",
        ")\n",
        "\n",
        "labels = \"Expected train data\", \"Expected valid data\"\n",
        "sizes = [trn, van]\n",
        "\n",
        "fig1, axes = plt.subplots(nrows=2)\n",
        "axes[0].pie(sizes, labels=labels, autopct='%1.1f%%', shadow=True, startangle=90)\n",
        "axes[0].axis('equal')  # Equal aspect ratio ensures that pie is drawn as a circle.\n",
        "\n",
        "train, valid = separate(image_ids_train, valid_split)\n",
        "\n",
        "sum_ = train.shape[0] + valid.shape[0]\n",
        "trn = train.shape[0]\n",
        "van = valid.shape[0]\n",
        "\n",
        "print(\"Szumma : {}\".format(sum_))\n",
        "print(\n",
        "    \"Results:\\nTrain: {}, Valid: {}\\n\\n\"\n",
        "    .format(trn, van)\n",
        ")\n",
        "\n",
        "labels2 = \"Result train data\", \"Result valid data\"\n",
        "sizes2 = [trn, van]\n",
        "\n",
        "axes[1].pie(sizes2, labels=labels2, autopct='%1.1f%%', shadow=True, startangle=90)\n",
        "axes[1].axis('equal') \n",
        "\n",
        "plt.show()"
      ],
      "execution_count": 124,
      "outputs": [
        {
          "output_type": "stream",
          "text": [
            "Szumma : 231723\n",
            "Expected results:\n",
            "Train: 196964, Valid: 34758\n",
            "\n",
            "\n",
            "Szumma : 231723\n",
            "Results:\n",
            "Train: 196964, Valid: 34759\n",
            "\n",
            "\n"
          ],
          "name": "stdout"
        },
        {
          "output_type": "display_data",
          "data": {
            "image/png": "[encoded data removed]",
            "text/plain": [
              "<matplotlib.figure.Figure at 0x7f547d0ddac8>"
            ]
          },
          "metadata": {
            "tags": []
          }
        }
      ]
    },
    {
      "metadata": {
        "id": "eG6C9cgNhawj",
        "colab_type": "code",
        "colab": {
          "base_uri": "https://localhost:8080/",
          "height": 34
        },
        "outputId": "346c0f3a-e612-4318-96b2-03269ac1d01d"
      },
      "cell_type": "code",
      "source": [
        "# classification\n",
        "img_id = image_ids_train[4]\n",
        "\n",
        "#img = imread('../input/train/' + ImageId)\n",
        "img_masks = df_train.loc[df_train[\"ImageId\"] == img_id, \"EncodedPixels\"].tolist()\n",
        "\n",
        "all_masks = np.zeros((768, 768))\n",
        "for mask in img_masks:\n",
        "    all_masks += rle_decode(mask)\n",
        "\n",
        "print(\n",
        "    \"{3}: Number of 1-s = {0}/{2}. Number of 0-s = {1}/{2}.\"\n",
        "    .format(\n",
        "        np.count_nonzero(all_masks),\n",
        "        768**2-np.count_nonzero(all_masks),\n",
        "        768**2,\n",
        "        img_id\n",
        "    )\n",
        ")"
      ],
      "execution_count": 125,
      "outputs": [
        {
          "output_type": "stream",
          "text": [
            "000194a2d.jpg: Number of 1-s = 1460/589824. Number of 0-s = 588364/589824.\n"
          ],
          "name": "stdout"
        }
      ]
    },
    {
      "metadata": {
        "id": "5zzNUDLcRjnq",
        "colab_type": "code",
        "colab": {}
      },
      "cell_type": "code",
      "source": [
        ""
      ],
      "execution_count": 0,
      "outputs": []
    },
    {
      "metadata": {
        "id": "1bB1nzWDp1a-",
        "colab_type": "code",
        "colab": {
          "base_uri": "https://localhost:8080/",
          "height": 34
        },
        "outputId": "e3b86e78-ca24-4cff-afbe-984e53f27983"
      },
      "cell_type": "code",
      "source": [
        "#debug, test\n",
        "import os\n",
        "X_debug_train = np.array(os.listdir(\"train_img\"))\n",
        "X_debug_test = np.array(os.listdir(\"test_img\"))\n",
        "print(\n",
        "    \"Train data size: {}, Test data size: {}\"\n",
        "    .format(X_debug_train.shape, X_debug_test.shape)\n",
        ")"
      ],
      "execution_count": 126,
      "outputs": [
        {
          "output_type": "stream",
          "text": [
            "Train data size: (42,), Test data size: (21,)\n"
          ],
          "name": "stdout"
        }
      ]
    },
    {
      "metadata": {
        "id": "XF7fz44kaf8g",
        "colab_type": "code",
        "colab": {
          "base_uri": "https://localhost:8080/",
          "height": 1370
        },
        "outputId": "b78dad65-0090-4dae-bbd1-7ede4d3cef95"
      },
      "cell_type": "code",
      "source": [
        "#data separation and generation test\n",
        "valid_split = 0.15\n",
        "train, valid = separate(X_debug_train, valid_split)\n",
        "print(\n",
        "    \"{}  -  {}  -  {}\"\n",
        "    .format(\n",
        "        img_train.shape[0],\n",
        "        img_valid.shape[0],\n",
        "        X_debug_test.shape[0]\n",
        "    )\n",
        ")\n",
        "\n",
        "sum_ = train.shape[0] + valid.shape[0] + X_debug_test.shape[0]\n",
        "trn = train.shape[0]\n",
        "van = valid.shape[0]\n",
        "ten = X_debug_test.shape[0]\n",
        "\n",
        "print(\"Sum : {}\".format(sum_))\n",
        "print(\n",
        "    \"Results:\\nTrain: {}, Valid: {}, Test: {}\\n\\n\"\n",
        "    .format(trn, van, ten)\n",
        ")\n",
        "\n",
        "# data visualization\n",
        "labels = \"Train data\", \"Valid data\", \"Test data\"\n",
        "sizes = [trn, van, ten]\n",
        "\n",
        "fig1, ax = plt.subplots()\n",
        "ax.pie(sizes, labels=labels, autopct='%1.1f%%', shadow=True, startangle=90)\n",
        "ax.axis('equal') \n",
        "\n",
        "plt.show()\n",
        "\n",
        "# dictionaries for the generators\n",
        "partitions = {\"train\": img_train, \"validation\": img_valid}\n",
        "# {\"imgID1\" : rle mask1, \"imgID2\" : rle_mask1, ... }  \n",
        "labels = dict()\n",
        "\n",
        "for i in range(X_debug_train.shape[0]):\n",
        "    labels[X_debug_train[i]] = df_train.loc[df_train.ImageId == X_debug_train[i]].EncodedPixels.values\n",
        "    \n",
        "#print(labels[X_debug_train[5]][0])  # has rle mask\n",
        "#print(labels[X_debug_train[12]][0]) # doesn't have rle mask\n",
        "\n",
        "# ezeket majd a model.fit_generatot(...) függvényének adjuk át\n",
        "rgb_channels_number = 3\n",
        "dimension_of_the_image = (768, 768)\n",
        "how_many_pictures_needed_per_epoch = 2\n",
        "\n",
        "training_generator = DataGenerator(\n",
        "    partitions[\"train\"],\n",
        "    labels,\n",
        "    \"train_img\",\n",
        "    batch_size=how_many_pictures_needed_per_epoch,\n",
        "    dim=dimension_of_the_image,\n",
        "    n_channels=rgb_channels_number\n",
        ")\n",
        "\n",
        "validation_generator = DataGenerator(\n",
        "    partitions[\"validation\"],\n",
        "    labels,\n",
        "    \"train_img\",\n",
        "    batch_size=how_many_pictures_needed_per_epoch,\n",
        "    dim=dimension_of_the_image,\n",
        "    n_channels=rgb_channels_number\n",
        ")\n",
        "\n",
        "result = training_generator.__getitem__(4)\n",
        "print(\"\\nResults are: \\n\")\n",
        "print(result[0].shape)\n",
        "print(result[1].shape)\n",
        "print(result[0][1])\n"
      ],
      "execution_count": 127,
      "outputs": [
        {
          "output_type": "stream",
          "text": [
            "35  -  7  -  21\n",
            "Sum : 63\n",
            "Results:\n",
            "Train: 35, Valid: 7, Test: 21\n",
            "\n",
            "\n"
          ],
          "name": "stdout"
        },
        {
          "output_type": "display_data",
          "data": {
            "image/png": "[encoded data removed]",
            "text/plain": [
              "<matplotlib.figure.Figure at 0x7f5484699c18>"
            ]
          },
          "metadata": {
            "tags": []
          }
        },
        {
          "output_type": "stream",
          "text": [
            "Ep end: [ 0  1  2  3  4  5  6  7  8  9 10 11 12 13 14 15 16 17 18 19 20 21 22 23\n",
            " 24 25 26 27 28 29 30 31 32 33 34]\n",
            "Ep end: [0 1 2 3 4 5 6]\n",
            "getitem: [27 28 24  8 14 34 20 22  4  3  2 10 12 18  6 31  1 17 33 30 16 13 15  5\n",
            " 25 23  0 32 19 26  7 11  9 21 29]\n",
            "getitem: ['000c150b0.jpg', '00a0969df.jpg']\n",
            "\n",
            "Results are: \n",
            "\n",
            "(2, 768, 768, 3)\n",
            "(2, 768, 768)\n",
            "[[[-0.92941176 -0.71764706 -0.6627451 ]\n",
            "  [-0.55294118 -0.35686275 -0.30196078]\n",
            "  [-0.83529412 -0.63921569 -0.58431373]\n",
            "  ...\n",
            "  [-0.89803922 -0.70196078 -0.64705882]\n",
            "  [-0.49019608 -0.29411765 -0.23921569]\n",
            "  [-0.92941176 -0.73333333 -0.67843137]]\n",
            "\n",
            " [[-0.89019608 -0.69411765 -0.63921569]\n",
            "  [-0.67058824 -0.4745098  -0.41960784]\n",
            "  [-0.8745098  -0.67843137 -0.62352941]\n",
            "  ...\n",
            "  [-0.74117647 -0.54509804 -0.49019608]\n",
            "  [-0.63137255 -0.43529412 -0.38039216]\n",
            "  [-0.80392157 -0.60784314 -0.55294118]]\n",
            "\n",
            " [[-0.73333333 -0.5372549  -0.48235294]\n",
            "  [-0.81960784 -0.62352941 -0.56862745]\n",
            "  [-1.         -0.80392157 -0.74901961]\n",
            "  ...\n",
            "  [-0.69411765 -0.49803922 -0.44313725]\n",
            "  [-0.54509804 -0.34901961 -0.29411765]\n",
            "  [-0.92156863 -0.7254902  -0.67058824]]\n",
            "\n",
            " ...\n",
            "\n",
            " [[-1.         -1.         -1.        ]\n",
            "  [-1.         -1.         -1.        ]\n",
            "  [-1.         -1.         -1.        ]\n",
            "  ...\n",
            "  [-1.         -1.         -1.        ]\n",
            "  [-1.         -1.         -1.        ]\n",
            "  [-1.         -1.         -1.        ]]\n",
            "\n",
            " [[-1.         -1.         -1.        ]\n",
            "  [-1.         -1.         -1.        ]\n",
            "  [-1.         -1.         -1.        ]\n",
            "  ...\n",
            "  [-1.         -1.         -1.        ]\n",
            "  [-1.         -1.         -1.        ]\n",
            "  [-1.         -1.         -1.        ]]\n",
            "\n",
            " [[-1.         -1.         -1.        ]\n",
            "  [-1.         -1.         -1.        ]\n",
            "  [-1.         -1.         -1.        ]\n",
            "  ...\n",
            "  [-1.         -1.         -1.        ]\n",
            "  [-1.         -1.         -1.        ]\n",
            "  [-1.         -1.         -1.        ]]]\n"
          ],
          "name": "stdout"
        }
      ]
    },
    {
      "metadata": {
        "id": "-6joHQfSMyGH",
        "colab_type": "code",
        "colab": {
          "base_uri": "https://localhost:8080/",
          "height": 578
        },
        "outputId": "0772348a-7b77-4d61-84d6-bed011267858"
      },
      "cell_type": "code",
      "source": [
        "rgb_channels_number = 3\n",
        "dimension_of_the_image = (768, 768)\n",
        "how_many_pictures_needed_per_epoch = 2\n",
        "\n",
        "training_generator = DataGenerator(\n",
        "    partitions[\"train\"],\n",
        "    labels,\n",
        "    \"train_img\",\n",
        "    batch_size=how_many_pictures_needed_per_epoch,\n",
        "    dim=dimension_of_the_image,\n",
        "    n_channels=rgb_channels_number\n",
        ")\n",
        "\n",
        "validation_generator = DataGenerator(\n",
        "    partitions[\"validation\"],\n",
        "    labels,\n",
        "    \"train_img\",\n",
        "    batch_size=how_many_pictures_needed_per_epoch,\n",
        "    dim=dimension_of_the_image,\n",
        "    n_channels=rgb_channels_number\n",
        ")\n",
        "i = 0\n",
        "for i in range(10):\n",
        "    result = training_generator.__getitem__(i)\n",
        "    #print(result[0].shape)\n",
        "    #DispImageWithMap(result[0][0], result[1][0]) # between 0..1 !!! we have imgs in between -1..1"
      ],
      "execution_count": 128,
      "outputs": [
        {
          "output_type": "stream",
          "text": [
            "Ep end: [ 0  1  2  3  4  5  6  7  8  9 10 11 12 13 14 15 16 17 18 19 20 21 22 23\n",
            " 24 25 26 27 28 29 30 31 32 33 34]\n",
            "Ep end: [0 1 2 3 4 5 6]\n",
            "getitem: [ 0 18  2 23 29 16 12 25 10 33  3  9 14 27  8 31  4  1 30 34 28 11 22 19\n",
            " 17 13 21 24 15  7 26 32 20  5  6]\n",
            "getitem: ['000baef0c.jpg', '00a2dd872.jpg']\n",
            "getitem: [ 0 18  2 23 29 16 12 25 10 33  3  9 14 27  8 31  4  1 30 34 28 11 22 19\n",
            " 17 13 21 24 15  7 26 32 20  5  6]\n",
            "getitem: ['00a52cd2a.jpg', '00a22caa9.jpg']\n",
            "getitem: [ 0 18  2 23 29 16 12 25 10 33  3  9 14 27  8 31  4  1 30 34 28 11 22 19\n",
            " 17 13 21 24 15  7 26 32 20  5  6]\n",
            "getitem: ['00a694b3e.jpg', '000f7f2fd.jpg']\n",
            "getitem: [ 0 18  2 23 29 16 12 25 10 33  3  9 14 27  8 31  4  1 30 34 28 11 22 19\n",
            " 17 13 21 24 15  7 26 32 20  5  6]\n",
            "getitem: ['000db3e62.jpg', '000fd9827.jpg']\n",
            "getitem: [ 0 18  2 23 29 16 12 25 10 33  3  9 14 27  8 31  4  1 30 34 28 11 22 19\n",
            " 17 13 21 24 15  7 26 32 20  5  6]\n",
            "getitem: ['000bd9ac4.jpg', '00a5a195b.jpg']\n",
            "getitem: [ 0 18  2 23 29 16 12 25 10 33  3  9 14 27  8 31  4  1 30 34 28 11 22 19\n",
            " 17 13 21 24 15  7 26 32 20  5  6]\n",
            "getitem: ['00a0969df.jpg', '000f7e728.jpg']\n",
            "getitem: [ 0 18  2 23 29 16 12 25 10 33  3  9 14 27  8 31  4  1 30 34 28 11 22 19\n",
            " 17 13 21 24 15  7 26 32 20  5  6]\n",
            "getitem: ['00a9adaa4.jpg', '00a4bf025.jpg']\n",
            "getitem: [ 0 18  2 23 29 16 12 25 10 33  3  9 14 27  8 31  4  1 30 34 28 11 22 19\n",
            " 17 13 21 24 15  7 26 32 20  5  6]\n",
            "getitem: ['00a74a7fe.jpg', '000e37fc6.jpg']\n",
            "getitem: [ 0 18  2 23 29 16 12 25 10 33  3  9 14 27  8 31  4  1 30 34 28 11 22 19\n",
            " 17 13 21 24 15  7 26 32 20  5  6]\n",
            "getitem: ['000c150b0.jpg', '00a7c6bed.jpg']\n",
            "getitem: [ 0 18  2 23 29 16 12 25 10 33  3  9 14 27  8 31  4  1 30 34 28 11 22 19\n",
            " 17 13 21 24 15  7 26 32 20  5  6]\n",
            "getitem: ['000d42241.jpg', '000d26c17.jpg']\n"
          ],
          "name": "stdout"
        }
      ]
    },
    {
      "metadata": {
        "id": "5xrX6LBcMUvo",
        "colab_type": "text"
      },
      "cell_type": "markdown",
      "source": [
        "#TODO\n",
        "* Validációs adatok leválasztása (kfold, keras)\n",
        "* Generátor fv  beolvassa a képeket, adat dúsít (forgatá, tükrözés)\n",
        "   *  Szétválasztott adatok alapján beolvas képeket.\n",
        "   * Dúsít\n",
        "   * Képeket átalakít tömbbé\n",
        "   * Dekódolja a maszkot\n",
        "   * visszatér 2 tömbbel (standardizált adatok, minmax)\n",
        "* Maszk Kódolás/Dekódolás (hajó nélküli képre is)\n",
        "* keras megtanulása\n",
        "  *   gen fv mágia\n",
        "* Példa képek speciális esetekre megjelenítés, maszkolás\n",
        "* Hajótlan képekre a dekoldoló fv (csupa 0 mátrix)\n",
        "* Statisztika az adatokról\n",
        "   * pie chart\n",
        "   * hisztogrammok\n",
        "\n",
        "\n",
        "\n",
        "    "
      ]
    }
  ]
}